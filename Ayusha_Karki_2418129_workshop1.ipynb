{
 "cells": [
  {
   "cell_type": "markdown",
   "metadata": {},
   "source": [
    "# Problem 1 Array Creation"
   ]
  },
  {
   "cell_type": "code",
   "execution_count": 1,
   "metadata": {},
   "outputs": [
    {
     "name": "stdout",
     "output_type": "stream",
     "text": [
      "[[3.00392950e-307 3.11524600e-307]\n",
      " [2.44776968e-307 8.62249648e-308]]\n",
      "\n",
      "[[1. 1.]\n",
      " [1. 1.]\n",
      " [1. 1.]\n",
      " [1. 1.]]\n",
      "\n",
      "[[7 7]\n",
      " [7 7]]\n",
      "\n",
      "[[0. 0.]\n",
      " [0. 0.]]\n",
      "\n",
      "[[1. 1.]\n",
      " [1. 1.]]\n",
      "\n",
      "[1 2 3 4]\n"
     ]
    }
   ],
   "source": [
    "\n",
    "\n",
    "import numpy as np\n",
    "\n",
    "#1 Empty array \n",
    "empty_array= np.empty((2,2))\n",
    "print(empty_array)\n",
    "print()\n",
    "#2 One array\n",
    "one_array = np.ones((4,2))\n",
    "print(one_array)\n",
    "print()\n",
    "#3 Full array with 7\n",
    "full_array = np.full((2,2),7)\n",
    "print(full_array)\n",
    "print()\n",
    "#4 Zero array\n",
    "zero_array = np.zeros((2,2))\n",
    "print(zero_array)\n",
    "print()\n",
    "#5  Ones array with 2 by 2 matrix\n",
    "ones_array =np.ones((2,2))\n",
    "print(ones_array)\n",
    "print()\n",
    "#6\n",
    "new_list =[1,2,3,4]\n",
    "new = np.array(new_list)\n",
    "print(new)\n",
    "\n"
   ]
  },
  {
   "cell_type": "markdown",
   "metadata": {},
   "source": [
    "# Problem 2 Array Manipulation: Numerical Ranges and Array indexing:"
   ]
  },
  {
   "cell_type": "code",
   "execution_count": 2,
   "metadata": {},
   "outputs": [
    {
     "name": "stdout",
     "output_type": "stream",
     "text": [
      "[10 11 12 13 14 15 16 17 18 19 20 21 22 23 24 25 26 27 28 29 30 31 32 33\n",
      " 34 35 36 37 38 39 40 41 42 43 44 45 46 47 48]\n",
      "\n",
      "[[0 1 2]\n",
      " [3 4 5]\n",
      " [6 7 8]]\n",
      "\n",
      "[[1. 0. 0.]\n",
      " [0. 1. 0.]\n",
      " [0. 0. 1.]]\n",
      "\n",
      "0.5404731602574365\n",
      "\n",
      "[[0.44784916 0.4088352  0.82223757 0.61844042 0.53361671 0.23577634\n",
      "  0.10611308 0.39319947 0.2091343  0.47604685]\n",
      " [0.73866759 0.67826066 0.67492527 0.30865308 0.08423604 0.35228259\n",
      "  0.57921328 0.23479219 0.81273002 0.8404587 ]\n",
      " [0.02178735 0.61729248 0.53685628 0.13379099 0.55953274 0.62420231\n",
      "  0.35299758 0.90756136 0.6251095  0.63229316]\n",
      " [0.11706159 0.07694483 0.72428606 0.96374103 0.0944699  0.70201025\n",
      "  0.13999067 0.68486767 0.12749069 0.77707903]\n",
      " [0.05449313 0.05128936 0.7586456  0.6168841  0.16922333 0.68260752\n",
      "  0.31649123 0.22092726 0.14264951 0.70758075]\n",
      " [0.83165559 0.95048375 0.0383742  0.08455605 0.28679146 0.58109196\n",
      "  0.9432988  0.22188716 0.88229159 0.23779541]\n",
      " [0.85310842 0.82149531 0.32265605 0.75343969 0.75086907 0.64639348\n",
      "  0.48082218 0.4598781  0.41669542 0.38868828]\n",
      " [0.4610916  0.81433325 0.18493192 0.9669912  0.94439876 0.46788355\n",
      "  0.29828807 0.08289517 0.3847603  0.38865938]\n",
      " [0.95767643 0.23063955 0.00955504 0.78310167 0.83575026 0.81829197\n",
      "  0.90280769 0.0186392  0.45869147 0.56625697]\n",
      " [0.57748222 0.83131528 0.84687076 0.78648504 0.90490278 0.01905105\n",
      "  0.65398109 0.44641642 0.53911571 0.27996577]]\n",
      "Min value is: 0.00955504400135887\n",
      "Max value is: 0.9669912025445105\n",
      "\n",
      "[0. 0. 0. 0. 1. 0. 0. 0. 0. 0.]\n",
      "\n",
      "[0 4 0 0 2 1]\n",
      "\n",
      "2D Array with Border 1 and Inside 0:\n",
      "[[1 1 1 1 1]\n",
      " [1 0 0 0 1]\n",
      " [1 0 0 0 1]\n",
      " [1 0 0 0 1]\n",
      " [1 1 1 1 1]]\n",
      "\n",
      "8x8 Checkerboard Matrix:\n",
      "[[1 0 1 0 1 0 1 0]\n",
      " [0 1 0 1 0 1 0 1]\n",
      " [1 0 1 0 1 0 1 0]\n",
      " [0 1 0 1 0 1 0 1]\n",
      " [1 0 1 0 1 0 1 0]\n",
      " [0 1 0 1 0 1 0 1]\n",
      " [1 0 1 0 1 0 1 0]\n",
      " [0 1 0 1 0 1 0 1]]\n"
     ]
    }
   ],
   "source": [
    " \n",
    "import numpy as np \n",
    "#1 array arrange from 10 to 48\n",
    "arrange_array = np.arange(10,49)\n",
    "print(arrange_array)\n",
    "print()\n",
    "#2  reshape into 3by 3 matrix\n",
    "array = np.array([[0, 1, 2], [3, 4, 5],[6,7,8]])\n",
    "reshape_array = array.reshape(3,3)\n",
    "print(reshape_array)\n",
    "print()\n",
    "#3 Identity matrix\n",
    "identity = np.eye(3)\n",
    "print(identity)\n",
    "print()\n",
    "#4\n",
    "random_array =np.random.random(30)\n",
    "total = random_array.mean()\n",
    "print(total)\n",
    "print()\n",
    "#5  Min max value of 10 by 10 random matrix\n",
    "ran_array = np.random.random((10,10))\n",
    "min_val = ran_array.min()\n",
    "max_val = ran_array.max()\n",
    "print(ran_array)\n",
    "print(\"Min value is:\",min_val)\n",
    "print(\"Max value is:\",max_val)\n",
    "print()\n",
    "#6\n",
    "zero_array = np.zeros(10)\n",
    "zero_array[4] = 1\n",
    "print(zero_array)\n",
    "print()\n",
    "#7  reversing the given array\n",
    "n_list =[1,2,0,0,4,0]\n",
    "new = np.array(n_list)\n",
    "reversed_array = new[::-1]\n",
    "print(reversed_array)\n",
    "print()\n",
    "\n",
    "\n",
    "#creating 5 by 5 matrix with value 0 \n",
    "arr = np.zeros((5,5), dtype=int)\n",
    "\n",
    "\n",
    "arr[0, :] = 1 # assigning first row value 1\n",
    "arr[4, :] = 1 #assigning last row value 1\n",
    "arr[:, 0] = 1 # assigning first row all columns with val 1\n",
    "arr[:, 4] = 1 #assigning right corner last row all column with val 1\n",
    "\n",
    "print(\"2D Array with Border 1 and Inside 0:\")\n",
    "print(arr)\n",
    "print()\n",
    "checkerboard = np.zeros((8, 8), dtype=int)\n",
    "checkerboard[::2, ::2] = 1  \n",
    "checkerboard[1::2, 1::2] = 1  \n",
    "\n",
    "print(\"8x8 Checkerboard Matrix:\")\n",
    "print(checkerboard)"
   ]
  },
  {
   "cell_type": "markdown",
   "metadata": {},
   "source": [
    "# Problem 3 Array Operations"
   ]
  },
  {
   "cell_type": "code",
   "execution_count": 3,
   "metadata": {},
   "outputs": [
    {
     "name": "stdout",
     "output_type": "stream",
     "text": [
      "Adding two arrays:\n",
      "[[ 6  8]\n",
      " [10 13]]\n",
      "\n",
      "sub two arrray:\n",
      "[[-4 -4]\n",
      " [-4 -3]]\n",
      "\n",
      "Multiply array:\n",
      "[[ 2  4]\n",
      " [ 6 10]]\n",
      "\n",
      "Square of x,y,v,w is:\n",
      "[[ 1  4]\n",
      " [ 9 25]]\n",
      "\n",
      "[[25 36]\n",
      " [49 64]]\n",
      "\n",
      "[ 81 100]\n",
      "\n",
      "[121 144]\n",
      "\n",
      "Dot product between v and w:\n",
      "219\n",
      "\n",
      "Dot product between x and v:\n",
      "[29 77]\n",
      "\n",
      "Dot product between x and y:\n",
      "[[19 22]\n",
      " [50 58]]\n",
      "\n",
      "Concatenate :\n",
      "[[1 2]\n",
      " [3 5]\n",
      " [5 6]\n",
      " [7 8]]\n",
      "\n",
      "[[ 9 10]\n",
      " [11 12]]\n",
      "\n"
     ]
    }
   ],
   "source": [
    "\n",
    "\n",
    "import numpy as np\n",
    "\n",
    "\n",
    "x = np.array([[1,2],[3,5]])\n",
    "y = np.array([[5,6],[7,8]])\n",
    "v = np.array([9,10])\n",
    "w = np.array([11,12])\n",
    "#1\n",
    "addArray = x + y;\n",
    "print(\"Adding two arrays:\")\n",
    "print(addArray);\n",
    "print()\n",
    "#2\n",
    "subArray = x-y;\n",
    "print(\"sub two arrray:\")\n",
    "print(subArray)\n",
    "print()\n",
    "#3\n",
    "mulArray = 2*x;\n",
    "print(\"Multiply array:\")\n",
    "print(mulArray)\n",
    "print()\n",
    "#4\n",
    "sqArray = np.square(x)\n",
    "sqY = np.square(y)\n",
    "sqV = np.square(v)\n",
    "sqW = np.square(w)\n",
    "print(\"Square of x,y,v,w is:\")\n",
    "print(sqArray)\n",
    "print()\n",
    "print(sqY)\n",
    "print()\n",
    "print(sqV)\n",
    "print()\n",
    "print(sqW)\n",
    "print()\n",
    "dotX = np.dot(v,w)\n",
    "dotY = np.dot(x,v)\n",
    "dotZ = np.dot(x,y)\n",
    "print(\"Dot product between v and w:\")\n",
    "print(dotX)\n",
    "print()\n",
    "print(\"Dot product between x and v:\")\n",
    "print(dotY)\n",
    "print()\n",
    "print(\"Dot product between x and y:\")\n",
    "print(dotZ)\n",
    "print()\n",
    "#merge\n",
    "concaX= np.concatenate((x,y), axis = 0)\n",
    "concaY = np.vstack((v,w))\n",
    "print(\"Concatenate :\")\n",
    "print(concaX)\n",
    "print()\n",
    "print(concaY)\n",
    "print()\n",
    "# concaZ= np.concatenate((x,v), axis = 0) all inputs must have same number of dimenstions.\n",
    "# print(concaZ)"
   ]
  },
  {
   "cell_type": "markdown",
   "metadata": {},
   "source": [
    "# Problem 4 Matrix Operation"
   ]
  },
  {
   "cell_type": "code",
   "execution_count": 4,
   "metadata": {},
   "outputs": [
    {
     "name": "stdout",
     "output_type": "stream",
     "text": [
      "[[1.00000000e+00 0.00000000e+00]\n",
      " [1.77635684e-15 1.00000000e+00]]\n",
      "\n",
      "A.A^-1 = I :\n",
      "True\n",
      "\n",
      "AB == BA:\n",
      "False\n",
      "\n",
      "[ 2.  1. -2.]\n"
     ]
    }
   ],
   "source": [
    "import numpy as np\n",
    "\n",
    "A = np.array([[3,4],[7,8]])\n",
    "B = np.array([[5,3],[2,1]]);\n",
    "# newArr = np.array([[8, -4],[-7,3]])\n",
    "# inverseA = 1/(24-28)*newArr\n",
    "inverseA = np.linalg.inv(A)\n",
    "result = np.dot(A,inverseA)\n",
    "# inverseX = A *inverseA\n",
    "# print(inverseA)\n",
    "# print()\n",
    "print(result)\n",
    "print()\n",
    "identity = np.eye(A.shape[0])\n",
    "print(\"A.A^-1 = I :\")\n",
    "print(np.allclose(result,identity))\n",
    "print()\n",
    "mulA = np.dot(A,B)\n",
    "mulB = np.dot(B,A)\n",
    "print(\"AB == BA:\")\n",
    "print(np.allclose(mulA,mulB))\n",
    "print()\n",
    "C = np.array([[2, -3, 1], [1, -1, 2], [3, 1, -1]])\n",
    "D = np.array([-1, -3, 9])\n",
    "inverseC = np.linalg.inv(C)\n",
    "result_cd= np.dot(inverseC, D)\n",
    "print(result_cd)"
   ]
  },
  {
   "cell_type": "markdown",
   "metadata": {},
   "source": [
    "# Experiment tasks"
   ]
  },
  {
   "cell_type": "markdown",
   "metadata": {},
   "source": [
    "### 1.Element-wise Addition"
   ]
  },
  {
   "cell_type": "markdown",
   "metadata": {},
   "source": [
    "### Using python list"
   ]
  },
  {
   "cell_type": "code",
   "execution_count": 5,
   "metadata": {},
   "outputs": [
    {
     "name": "stdout",
     "output_type": "stream",
     "text": [
      "Time taken: 0.046346187591552734 seconds\n"
     ]
    }
   ],
   "source": [
    "import time\n",
    "\n",
    "def add_lists(list1, list2):\n",
    "    \n",
    "    result = []\n",
    "    for i in range(len(list1)):\n",
    "        result.append(list1[i] + list2[i])\n",
    "    return result\n",
    "\n",
    "# Create two lists of size 1,000,000\n",
    "list1 = [i for i in range(1000000)]\n",
    "list2 = [i  for i in range(1000000)]\n",
    "\n",
    "# Measure the time taken\n",
    "start_time = time.time()\n",
    "result = add_lists(list1, list2)\n",
    "end_time = time.time()\n",
    "\n",
    "# Print the time taken\n",
    "print(\"Time taken:\", end_time - start_time, \"seconds\")"
   ]
  },
  {
   "cell_type": "markdown",
   "metadata": {},
   "source": [
    "### Using numpy array"
   ]
  },
  {
   "cell_type": "code",
   "execution_count": 6,
   "metadata": {},
   "outputs": [
    {
     "name": "stdout",
     "output_type": "stream",
     "text": [
      "Time taken: 0.009419918060302734  seconds\n"
     ]
    }
   ],
   "source": [
    "import numpy as np\n",
    "import time\n",
    "\n",
    "aar1 = np.arange(0, 1000000)\n",
    "aar2 = np.arange(0,1000000)\n",
    "\n",
    "start_time = time.time()\n",
    "result = aar1 + aar2\n",
    "end_time = time.time()\n",
    "print(\"Time taken:\",end_time-start_time, \" seconds\")"
   ]
  },
  {
   "cell_type": "markdown",
   "metadata": {},
   "source": [
    "# 2.Element-wise multiplication"
   ]
  },
  {
   "cell_type": "markdown",
   "metadata": {},
   "source": [
    "### Python  list"
   ]
  },
  {
   "cell_type": "code",
   "execution_count": 7,
   "metadata": {},
   "outputs": [
    {
     "name": "stdout",
     "output_type": "stream",
     "text": [
      "Time taken: 0.0475921630859375 seconds\n"
     ]
    }
   ],
   "source": [
    "import time\n",
    "\n",
    "def add_lists(list1, list2):\n",
    "    \n",
    "    result = []\n",
    "    for i in range(len(list1)):\n",
    "        result.append(list1[i] * list2[i])\n",
    "    return result\n",
    "\n",
    "# Create two lists of size 1,000,000\n",
    "list1 = [i for i in range(1000000)]\n",
    "list2 = [i  for i in range(1000000)]\n",
    "\n",
    "# Measure the time taken\n",
    "start_time = time.time()\n",
    "result = add_lists(list1, list2)\n",
    "end_time = time.time()\n",
    "\n",
    "# Print the time taken\n",
    "print(\"Time taken:\", end_time - start_time, \"seconds\")"
   ]
  },
  {
   "cell_type": "markdown",
   "metadata": {},
   "source": [
    "### Numpy array"
   ]
  },
  {
   "cell_type": "code",
   "execution_count": 8,
   "metadata": {},
   "outputs": [
    {
     "name": "stdout",
     "output_type": "stream",
     "text": [
      "Time taken: 0.011261463165283203  seconds\n"
     ]
    }
   ],
   "source": [
    "import numpy as np\n",
    "import time\n",
    "\n",
    "aar1 = np.arange(0, 1000000)\n",
    "aar2 = np.arange(0,1000000)\n",
    "\n",
    "start_time = time.time()\n",
    "result = aar1 * aar2\n",
    "end_time = time.time()\n",
    "print(\"Time taken:\",end_time-start_time, \" seconds\")"
   ]
  },
  {
   "cell_type": "markdown",
   "metadata": {},
   "source": [
    "# Dot product"
   ]
  },
  {
   "cell_type": "markdown",
   "metadata": {},
   "source": [
    "### Python list"
   ]
  },
  {
   "cell_type": "code",
   "execution_count": 9,
   "metadata": {},
   "outputs": [
    {
     "name": "stdout",
     "output_type": "stream",
     "text": [
      "Time taken: 0.04613542556762695 seconds\n"
     ]
    }
   ],
   "source": [
    "import time\n",
    "\n",
    "def add_lists(list1, list2):\n",
    "    \n",
    "    result = []\n",
    "    for i in range(len(list1)):\n",
    "        result.append(list1[i] * list2[i])\n",
    "    return result\n",
    "\n",
    "# Create two lists of size 1,000,000\n",
    "list1 = [i for i in range(1000000)]\n",
    "list2 = [i  for i in range(1000000)]\n",
    "\n",
    "# Measure the time taken\n",
    "start_time = time.time()\n",
    "result = add_lists(list1, list2)\n",
    "end_time = time.time()\n",
    "\n",
    "# Print the time taken\n",
    "print(\"Time taken:\", end_time - start_time, \"seconds\")"
   ]
  },
  {
   "cell_type": "markdown",
   "metadata": {},
   "source": [
    "### Numpy array"
   ]
  },
  {
   "cell_type": "code",
   "execution_count": 10,
   "metadata": {},
   "outputs": [
    {
     "name": "stdout",
     "output_type": "stream",
     "text": [
      "Time taken: 0.008627891540527344  seconds\n"
     ]
    }
   ],
   "source": [
    "import numpy as np\n",
    "import time\n",
    "\n",
    "aar1 = np.arange(0, 1000000)\n",
    "aar2 = np.arange(0,1000000)\n",
    "\n",
    "start_time = time.time()\n",
    "result = np.dot(aar1,aar2)\n",
    "end_time = time.time()\n",
    "print(\"Time taken:\",end_time-start_time, \" seconds\")"
   ]
  },
  {
   "cell_type": "code",
   "execution_count": null,
   "metadata": {},
   "outputs": [],
   "source": [
    "import random\n",
    "import time\n",
    "\n",
    "# Matrix size\n",
    "n = 1000\n",
    "\n",
    "# Generate two random 1000x1000 matrices\n",
    "matrix_a = [[random.randint(0, 10) for _ in range(n)] for _ in range(n)]\n",
    "matrix_b = [[random.randint(0, 10) for _ in range(n)] for _ in range(n)]\n",
    "\n",
    "# Initialize the result matrix with zeros\n",
    "result = [[0] * n for _ in range(n)]\n",
    "\n",
    "# Perform matrix multiplication and measure the time taken\n",
    "start_time = time.time()\n",
    "\n",
    "for i in range(n):\n",
    "    for j in range(n):\n",
    "        for k in range(n):\n",
    "            result[i][j] += matrix_a[i][k] * matrix_b[k][j]\n",
    "\n",
    "end_time = time.time()\n",
    "\n",
    "# Print the time taken\n",
    "time_taken = end_time - start_time\n",
    "print(time_taken)\n"
   ]
  },
  {
   "cell_type": "code",
   "execution_count": null,
   "metadata": {},
   "outputs": [],
   "source": [
    "import numpy as np\n",
    "import time\n",
    "\n",
    "# Create two NumPy arrays of size 1000x1000\n",
    "matrix1 = np.random.rand(1000, 1000)\n",
    "matrix2 = np.random.rand(1000, 1000)\n",
    "\n",
    "# Measure the time taken\n",
    "start_time = time.time()\n",
    "product = np.dot(matrix1, matrix2)\n",
    "end_time = time.time()\n",
    "\n",
    "# Print the time taken\n",
    "print(\"Time taken:\", end_time - start_time, \"seconds\")"
   ]
  },
  {
   "cell_type": "code",
   "execution_count": null,
   "metadata": {},
   "outputs": [],
   "source": []
  },
  {
   "cell_type": "code",
   "execution_count": null,
   "metadata": {},
   "outputs": [],
   "source": []
  }
 ],
 "metadata": {
  "kernelspec": {
   "display_name": "Python 3",
   "language": "python",
   "name": "python3"
  },
  "language_info": {
   "codemirror_mode": {
    "name": "ipython",
    "version": 3
   },
   "file_extension": ".py",
   "mimetype": "text/x-python",
   "name": "python",
   "nbconvert_exporter": "python",
   "pygments_lexer": "ipython3",
   "version": "3.13.0"
  }
 },
 "nbformat": 4,
 "nbformat_minor": 4
}
